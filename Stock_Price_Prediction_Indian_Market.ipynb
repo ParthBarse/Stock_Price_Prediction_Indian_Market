{
  "nbformat": 4,
  "nbformat_minor": 0,
  "metadata": {
    "colab": {
      "name": "Stock_Price_Prediction_Indian_Market.ipynb",
      "provenance": []
    },
    "kernelspec": {
      "name": "python3",
      "display_name": "Python 3"
    },
    "language_info": {
      "name": "python"
    }
  },
  "cells": [
    {
      "cell_type": "code",
      "execution_count": null,
      "metadata": {
        "id": "deHGcCDqUkis"
      },
      "outputs": [],
      "source": [
        "# !pip install --user -U nltk\n",
        "# !pip install twython\n",
        "# import nltk\n",
        "# nltk.download('vader_lexicon')"
      ]
    },
    {
      "cell_type": "code",
      "source": [
        "from bs4 import BeautifulSoup as bs\n",
        "import html5lib\n",
        "import requests\n",
        "from nltk.sentiment.vader import SentimentIntensityAnalyzer"
      ],
      "metadata": {
        "id": "8g94EESiU8AI"
      },
      "execution_count": 95,
      "outputs": []
    },
    {
      "cell_type": "code",
      "source": [
        "# Add or un-comment the url of stock which you want to analys -\n",
        "\n",
        "# url = \"https://www.business-standard.com/company/hcl-technologies-5656/news\"\n",
        "url = \"https://www.business-standard.com/company/tcs-5400/news\"\n",
        "# url = \"https://www.business-standard.com/company/tata-tele-mah-21214/news\"\n",
        "\n",
        "# Enter stock name here -\n",
        "stock_name = \"TTML\"\n",
        "\n",
        "# Requesting to website and collecting Data\n",
        "r = requests.get(url)\n",
        "soup = bs(r.content)\n",
        "\n",
        "# Cleaning Data -\n",
        "\n",
        "cln_data = soup.select(\"ul li div h2 a\")\n",
        "\n",
        "cln_data = cln_data[0:5]\n",
        "\n",
        "all_comp_val = []\n",
        "\n",
        "# Defining Average function - \n",
        "\n",
        "def Average(all_comp_val):\n",
        "    return sum(all_comp_val) / len(all_comp_val)\n",
        "\n",
        "# Intializing sentiment analyzer function - \n",
        "\n",
        "vader = SentimentIntensityAnalyzer()\n",
        "\n",
        "# Passing each news headline into analyzer and getting compound value for each news headline - \n",
        "\n",
        "for dt in cln_data:\n",
        "  f_dt = dt.text\n",
        "  compound_value = vader.polarity_scores(f_dt)['compound']\n",
        "\n",
        "  all_comp_val.append(compound_value)\n",
        "\n",
        "mean_all_comp_val = Average(all_comp_val)"
      ],
      "metadata": {
        "id": "4WktS4Y3U9PQ"
      },
      "execution_count": 105,
      "outputs": []
    },
    {
      "cell_type": "code",
      "source": [
        "# Outputing the final output - \n",
        "if mean_all_comp_val > 0:\n",
        "  print(\"---------------------------------------------\", end=\"\\n\\n\")\n",
        "  print(\"Stock Name : \",stock_name, end=\"\\n\\n\")\n",
        "  print(\"Price of this stock may INCREASE ( + )\", end=\"\\n\\n\")\n",
        "  print(\"Confidence : \", str(mean_all_comp_val) + \" | Max : 1, Min : -1\", end=\"\\n\\n\")\n",
        "  print(\"---------------------------------------------\")\n",
        "\n",
        "elif mean_all_comp_val == 0:\n",
        "  print(\"---------------------------------------------\", end=\"\\n\\n\")\n",
        "  print(\"Stock Name : \",stock_name, end=\"\\n\\n\")\n",
        "  print(\"Price of this stock cannot predict right now !\", end=\"\\n\\n\")\n",
        "  print(\"Confidence : \", str(mean_all_comp_val) + \" | Max : 1, Min : -1\", end=\"\\n\\n\")\n",
        "  print(\"---------------------------------------------\")\n",
        "\n",
        "else:\n",
        "  print(\"---------------------------------------------\", end=\"\\n\\n\")\n",
        "  print(\"Stock Name : \",stock_name, end=\"\\n\\n\")\n",
        "  print(\"Price of this stock may DECREASE ( - )\", end=\"\\n\\n\")\n",
        "  print(\"Confidence : \", str(mean_all_comp_val) + \" | Max : 1, Min : -1\", end=\"\\n\\n\")\n",
        "  print(\"---------------------------------------------\")\n"
      ],
      "metadata": {
        "colab": {
          "base_uri": "https://localhost:8080/"
        },
        "id": "-t6KJeoeXMeV",
        "outputId": "4dab4f21-5fec-4c98-cb0e-a1f90f99e033"
      },
      "execution_count": 106,
      "outputs": [
        {
          "output_type": "stream",
          "name": "stdout",
          "text": [
            "---------------------------------------------\n",
            "\n",
            "Stock Name :  TTML\n",
            "\n",
            "Price of this stock may DECREASE ( - )\n",
            "\n",
            "Confidence :  -0.0329 | Max : 1, Min : -1\n",
            "\n",
            "---------------------------------------------\n"
          ]
        }
      ]
    }
  ]
}